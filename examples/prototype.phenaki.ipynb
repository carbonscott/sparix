{
 "cells": [
  {
   "cell_type": "code",
   "execution_count": 1,
   "metadata": {},
   "outputs": [],
   "source": [
    "import torch\n",
    "import torch.nn as nn\n",
    "import torch.nn.functional as F"
   ]
  },
  {
   "cell_type": "code",
   "execution_count": 2,
   "metadata": {},
   "outputs": [],
   "source": [
    "import matplotlib.pyplot       as plt\n",
    "import matplotlib.colors       as mcolors\n",
    "import matplotlib.patches      as mpatches\n",
    "import matplotlib.transforms   as mtransforms\n",
    "import matplotlib.font_manager as font_manager\n",
    "%matplotlib inline"
   ]
  },
  {
   "cell_type": "code",
   "execution_count": 3,
   "metadata": {},
   "outputs": [],
   "source": [
    "device = \"cuda:0\" if torch.cuda.is_available() else \"cpu\""
   ]
  },
  {
   "cell_type": "code",
   "execution_count": 4,
   "metadata": {},
   "outputs": [],
   "source": [
    "# Imagine we have a series of diffraction image (like a video clip) to process\n",
    "Tx, Cx, Hx, Wx = 5000, 1, 129, 129\n",
    "video_clip = torch.randn(Tx, Cx, Hx, Wx).to(device)\n"
   ]
  },
  {
   "cell_type": "code",
   "execution_count": 18,
   "metadata": {},
   "outputs": [],
   "source": [
    "# Chop up the video clip in spatial (Cx, Hx, Wx) and temporal (Tx) dimensions\n",
    "# - spatial: 1x3x3\n",
    "# - temporal: 1\n",
    "ndiv = 3\n",
    "tdiv = 10\n",
    "Tp, Cp, Hp, Wp = Tx//tdiv, Cx, Hx // ndiv, Wx // ndiv\n",
    "# video_clip_tokenized = video_clip.view(Tp, tdiv, Cp, ndiv, Hp, ndiv, Wp).transpose(-2, -3).transpose(1, 3).transpose(2, 4)"
   ]
  },
  {
   "cell_type": "code",
   "execution_count": 24,
   "metadata": {},
   "outputs": [],
   "source": [
    "video_clip_tokenized = video_clip.view(Tp, tdiv, Cp, ndiv, Hp, ndiv, Wp)\n",
    "video_clip_tokenized = video_clip_tokenized.transpose(-2, -3).contiguous()\n",
    "video_clip_tokenized = video_clip_tokenized.transpose(1, 3).contiguous()\n",
    "video_clip_tokenized = video_clip_tokenized.transpose(2, 4).contiguous()"
   ]
  },
  {
   "cell_type": "code",
   "execution_count": 25,
   "metadata": {},
   "outputs": [
    {
     "data": {
      "text/plain": [
       "torch.Size([500, 3, 3, 10, 1, 43, 43])"
      ]
     },
     "execution_count": 25,
     "metadata": {},
     "output_type": "execute_result"
    }
   ],
   "source": [
    "video_clip_tokenized.shape"
   ]
  },
  {
   "cell_type": "code",
   "execution_count": 7,
   "metadata": {},
   "outputs": [
    {
     "name": "stderr",
     "output_type": "stream",
     "text": [
      "/cds/sw/package/conda_envs/cwang31/peaknet-1.0/lib/python3.7/site-packages/torch/functional.py:445: UserWarning: torch.meshgrid: in an upcoming release, it will be required to pass the indexing argument. (Triggered internally at  /home/conda/feedstock_root/build_artifacts/pytorch-recipe_1635005512693/work/aten/src/ATen/native/TensorShape.cpp:2157.)\n",
      "  return _VF.meshgrid(tensors, **kwargs)  # type: ignore[attr-defined]\n"
     ]
    }
   ],
   "source": [
    "# Create a simple 2D object (a circle in this case)\n",
    "x = torch.linspace(-50, 50, 400)\n",
    "y = torch.linspace(-50, 50, 400)\n",
    "X, Y = torch.meshgrid(x, y)\n",
    "Z = torch.sqrt(X**2 + Y**2)\n",
    "circle = torch.where(Z <= 30, 1, 0)\n",
    "\n",
    "ndiv = 4\n",
    "H_cir, W_cir = circle.shape\n",
    "H_tok, W_tok = H_cir // ndiv, W_cir // ndiv\n",
    "circle_tokenized = circle.view(ndiv, H_tok, ndiv, W_tok).permute(0, 2, 1, 3)    # Partition an image \n",
    "                                                                                # Only the adjeact dimension can be separated or combined:\n",
    "                                                                                # (H, ) = (3, H//3)\n",
    "                                                                                # (W, ) = (3, W//3)\n",
    "                                                                                # (H, W) = (3, H//3, 3, W//3)"
   ]
  },
  {
   "cell_type": "code",
   "execution_count": 8,
   "metadata": {},
   "outputs": [
    {
     "data": {
      "text/plain": [
       "<matplotlib.image.AxesImage at 0x7f65c87c7d10>"
      ]
     },
     "execution_count": 8,
     "metadata": {},
     "output_type": "execute_result"
    },
    {
     "data": {
      "image/png": "[encoded data removed]",
      "text/plain": [
       "<Figure size 400x400 with 1 Axes>"
      ]
     },
     "metadata": {},
     "output_type": "display_data"
    }
   ],
   "source": [
    "fig = plt.figure(figsize = (4, 4))\n",
    "plt.imshow(circle, interpolation = 'none')"
   ]
  },
  {
   "cell_type": "code",
   "execution_count": 9,
   "metadata": {},
   "outputs": [
    {
     "data": {
      "image/png": "[encoded data removed]",
      "text/plain": [
       "<Figure size 400x400 with 16 Axes>"
      ]
     },
     "metadata": {},
     "output_type": "display_data"
    }
   ],
   "source": [
    "\n",
    "ncols = 4\n",
    "nrows = 4\n",
    "fig   = plt.figure(figsize = (4,4))\n",
    "gspec = fig.add_gridspec( nrows, ncols, )\n",
    "ax_list = [ fig.add_subplot(gspec[i, j], aspect = 1) for i in range(nrows) for j in range(ncols)]\n",
    "\n",
    "for row in range(nrows):\n",
    "    for col in range(ncols):\n",
    "        idx = col + ncols * row\n",
    "        ax = ax_list[idx]\n",
    "        data = circle_tokenized[row][col]\n",
    "        ax.imshow(data, interpolation = 'none')\n",
    "\n",
    "# Apply style...\n",
    "for ax in ax_list:\n",
    "    ax.set_xticks([])\n",
    "    ax.set_yticks([])\n",
    "\n",
    "    # Hide the frame box\n",
    "    ax.spines['top'   ].set_visible(False)\n",
    "    ax.spines['right' ].set_visible(False)\n",
    "    ax.spines['left'  ].set_visible(False)\n",
    "    ax.spines['bottom'].set_visible(False)"
   ]
  },
  {
   "cell_type": "code",
   "execution_count": 30,
   "metadata": {},
   "outputs": [],
   "source": [
    "# Linear project to encode an object as a token\n",
    "Dz = 32\n",
    "tokenize_layer = nn.Linear(tdiv * Cp * Hp * Wp, Dz).to(device)"
   ]
  },
  {
   "cell_type": "code",
   "execution_count": 32,
   "metadata": {},
   "outputs": [
    {
     "data": {
      "text/plain": [
       "0.591712"
      ]
     },
     "execution_count": 32,
     "metadata": {},
     "output_type": "execute_result"
    }
   ],
   "source": [
    "sum(p.numel() for p in tokenize_layer.parameters())/1e6    # M parameters"
   ]
  },
  {
   "cell_type": "code",
   "execution_count": 28,
   "metadata": {},
   "outputs": [
    {
     "data": {
      "text/plain": [
       "torch.Size([500, 3, 3, 10, 1, 43, 43])"
      ]
     },
     "execution_count": 28,
     "metadata": {},
     "output_type": "execute_result"
    }
   ],
   "source": [
    "video_clip_tokenized.shape"
   ]
  },
  {
   "cell_type": "code",
   "execution_count": 45,
   "metadata": {},
   "outputs": [
    {
     "data": {
      "text/plain": [
       "tensor([ 0.7724,  0.5484, -0.7720,  0.2938, -0.4160, -0.5704, -0.7403, -1.2842,\n",
       "         0.1559, -0.7766, -0.1549, -0.4446,  0.0614,  0.3793,  0.0645,  0.4157,\n",
       "        -0.3775,  0.5131,  0.3660, -0.4129,  0.1970,  0.1140,  0.4844,  0.7657,\n",
       "         0.5203, -0.6555, -0.2248, -0.5753,  0.1110,  0.0471,  0.4153,  0.0876],\n",
       "       device='cuda:0', grad_fn=<AddBackward0>)"
      ]
     },
     "execution_count": 45,
     "metadata": {},
     "output_type": "execute_result"
    }
   ],
   "source": [
    "one_piece = video_clip_tokenized[0, 0, 0]\n",
    "tokenize_layer(one_piece.view(-1))"
   ]
  },
  {
   "cell_type": "code",
   "execution_count": 36,
   "metadata": {},
   "outputs": [
    {
     "name": "stdout",
     "output_type": "stream",
     "text": [
      "tensor([-0.3443, -1.1201, -0.0334,  ..., -1.0652,  0.5107, -0.1267],\n",
      "       device='cuda:0')\n",
      "torch.Size([32])\n"
     ]
    }
   ],
   "source": [
    "one_piece = video_clip_tokenized[0, 0, 0]\n",
    "print(one_piece.view(-1))\n",
    "\n",
    "one_token = tokenize_layer(one_piece.view(-1))\n",
    "print(one_token.shape)"
   ]
  },
  {
   "cell_type": "code",
   "execution_count": 38,
   "metadata": {},
   "outputs": [],
   "source": [
    "Tz, Hz, Wz, Tp, Cp, Hp, Wp = video_clip_tokenized.shape\n",
    "\n",
    "video_token = tokenize_layer(video_clip_tokenized.view(Tz * Hz * Wz, Tp * Cp * Hp * Wp))"
   ]
  },
  {
   "cell_type": "code",
   "execution_count": 43,
   "metadata": {},
   "outputs": [],
   "source": [
    "video_token = video_token.view(Tz, Hz, Wz, -1)"
   ]
  },
  {
   "cell_type": "code",
   "execution_count": 44,
   "metadata": {},
   "outputs": [
    {
     "data": {
      "text/plain": [
       "torch.Size([500, 3, 3, 32])"
      ]
     },
     "execution_count": 44,
     "metadata": {},
     "output_type": "execute_result"
    }
   ],
   "source": [
    "video_token.shape"
   ]
  },
  {
   "cell_type": "code",
   "execution_count": null,
   "metadata": {},
   "outputs": [],
   "source": []
  }
 ],
 "metadata": {
  "kernelspec": {
   "display_name": "peaknet-1.0",
   "language": "python",
   "name": "peaknet-1.0"
  },
  "language_info": {
   "codemirror_mode": {
    "name": "ipython",
    "version": 3
   },
   "file_extension": ".py",
   "mimetype": "text/x-python",
   "name": "python",
   "nbconvert_exporter": "python",
   "pygments_lexer": "ipython3",
   "version": "3.7.12"
  },
  "orig_nbformat": 4
 },
 "nbformat": 4,
 "nbformat_minor": 2
}
