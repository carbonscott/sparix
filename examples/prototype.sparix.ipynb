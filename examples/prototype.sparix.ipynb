{
 "cells": [
  {
   "cell_type": "code",
   "execution_count": 1,
   "metadata": {},
   "outputs": [],
   "source": [
    "import torch\n",
    "import torch.nn as nn\n",
    "import torch.nn.functional as F"
   ]
  },
  {
   "cell_type": "code",
   "execution_count": 2,
   "metadata": {},
   "outputs": [],
   "source": [
    "from sparix.trans import Pad\n",
    "from sparix.modeling.transformer import Transformer\n",
    "from sparix.data  import FrameDataset"
   ]
  },
  {
   "cell_type": "code",
   "execution_count": 3,
   "metadata": {},
   "outputs": [],
   "source": [
    "import h5py\n",
    "import math\n",
    "import random"
   ]
  },
  {
   "cell_type": "code",
   "execution_count": 4,
   "metadata": {},
   "outputs": [],
   "source": [
    "import matplotlib.pyplot       as plt\n",
    "import matplotlib.colors       as mcolors\n",
    "import matplotlib.patches      as mpatches\n",
    "import matplotlib.transforms   as mtransforms\n",
    "import matplotlib.font_manager as font_manager\n",
    "%matplotlib inline"
   ]
  },
  {
   "cell_type": "code",
   "execution_count": 5,
   "metadata": {},
   "outputs": [],
   "source": [
    "device = \"cuda:0\" if torch.cuda.is_available() else \"cpu\""
   ]
  },
  {
   "cell_type": "code",
   "execution_count": 6,
   "metadata": {},
   "outputs": [],
   "source": [
    "# path_h5 = \"3IYF.Fibonacci.h5\"\n",
    "# with h5py.File(path_h5, \"r\") as fh:\n",
    "#     data = fh.get(\"intensities\")[:100]"
   ]
  },
  {
   "cell_type": "code",
   "execution_count": 7,
   "metadata": {},
   "outputs": [],
   "source": [
    "path_h5 = \"3IYF.Fibonacci.h5\"\n",
    "fh = h5py.File(path_h5, \"r\")"
   ]
  },
  {
   "cell_type": "code",
   "execution_count": 8,
   "metadata": {},
   "outputs": [
    {
     "data": {
      "text/plain": [
       "(5000, 1, 156, 156)"
      ]
     },
     "execution_count": 8,
     "metadata": {},
     "output_type": "execute_result"
    }
   ],
   "source": [
    "frame_source = fh[\"intensities\"]\n",
    "frame_source.shape"
   ]
  },
  {
   "cell_type": "code",
   "execution_count": 9,
   "metadata": {},
   "outputs": [
    {
     "data": {
      "text/plain": [
       "(160, 160)"
      ]
     },
     "execution_count": 9,
     "metadata": {},
     "output_type": "execute_result"
    }
   ],
   "source": [
    "B, C, H, W = frame_source.shape\n",
    "\n",
    "H_patch = 16\n",
    "W_patch = 16\n",
    "H_padded = math.ceil(H / H_patch) * H_patch\n",
    "W_padded = math.ceil(W / W_patch) * W_patch\n",
    "H_padded, W_padded"
   ]
  },
  {
   "cell_type": "code",
   "execution_count": 10,
   "metadata": {},
   "outputs": [],
   "source": [
    "pad = Pad(H_padded, W_padded)"
   ]
  },
  {
   "cell_type": "code",
   "execution_count": 11,
   "metadata": {},
   "outputs": [],
   "source": [
    "frame_idx_list = range(4000)\n",
    "Hp, Wp = H_patch, W_patch\n",
    "num_frame_in_context = 4\n",
    "sample_size = 100\n",
    "fd = FrameDataset(frame_source, frame_idx_list, num_frame_in_context, Hp, Wp, sample_size, pad)"
   ]
  },
  {
   "cell_type": "code",
   "execution_count": null,
   "metadata": {},
   "outputs": [],
   "source": [
    "fh.close()"
   ]
  },
  {
   "cell_type": "code",
   "execution_count": null,
   "metadata": {},
   "outputs": [],
   "source": [
    "156 / 4"
   ]
  },
  {
   "cell_type": "code",
   "execution_count": 12,
   "metadata": {},
   "outputs": [],
   "source": [
    "context, target = fd[0]"
   ]
  },
  {
   "cell_type": "code",
   "execution_count": 13,
   "metadata": {},
   "outputs": [
    {
     "data": {
      "text/plain": [
       "((400, 16, 16), (400, 16, 16))"
      ]
     },
     "execution_count": 13,
     "metadata": {},
     "output_type": "execute_result"
    }
   ],
   "source": [
    "context.shape, target.shape"
   ]
  },
  {
   "cell_type": "code",
   "execution_count": 24,
   "metadata": {},
   "outputs": [
    {
     "data": {
      "image/png": "[encoded data removed]",
      "text/plain": [
       "<Figure size 2000x400 with 40 Axes>"
      ]
     },
     "metadata": {},
     "output_type": "display_data"
    }
   ],
   "source": [
    "start_idx = random.choice(range(context.shape[0] - H_padded))\n",
    "ncols = 20\n",
    "nrows = 2\n",
    "fig   = plt.figure(figsize = (20,4))\n",
    "gspec = fig.add_gridspec( nrows, ncols, )\n",
    "\n",
    "ax_list = [ fig.add_subplot(gspec[i, j], aspect = 1) for i in range(nrows) for j in range(ncols)]\n",
    "\n",
    "for col in range(ncols):\n",
    "    ax = ax_list[col]\n",
    "    data_viz = context[start_idx + col]\n",
    "    vmin = data_viz.mean()\n",
    "    vmax = data_viz.mean() + 4 * data_viz.std()\n",
    "    ax.imshow(data_viz, interpolation = 'none', vmin = vmin, vmax = vmax)\n",
    "\n",
    "for col in range(ncols):\n",
    "    ax = ax_list[ncols + col]\n",
    "    data_viz = target[start_idx + col]\n",
    "    vmin = data_viz.mean()\n",
    "    vmax = data_viz.mean() + 4 * data_viz.std()\n",
    "    ax.imshow(data_viz, interpolation = 'none', vmin = vmin, vmax = vmax)\n",
    "\n",
    "# Apply style...\n",
    "for ax in ax_list:\n",
    "    ax.set_xticks([])\n",
    "    ax.set_yticks([])\n",
    "\n",
    "    # Hide the frame box\n",
    "    ax.spines['top'   ].set_visible(False)\n",
    "    ax.spines['right' ].set_visible(False)\n",
    "    ax.spines['left'  ].set_visible(False)\n",
    "    ax.spines['bottom'].set_visible(False)"
   ]
  },
  {
   "cell_type": "code",
   "execution_count": null,
   "metadata": {},
   "outputs": [],
   "source": [
    "Hp, Wp = 13, 13"
   ]
  },
  {
   "cell_type": "code",
   "execution_count": null,
   "metadata": {},
   "outputs": [],
   "source": [
    "data_reshaped = data.reshape(B, C, H//Hp, Hp, W//Wp, Wp).swapaxes(3,4)    # data.reshape(B, C, H//Hp, Hp, W//Wp, Wp).transpose(0, 1, 2, 4, 3, 5)\n",
    "data_reshaped.shape"
   ]
  },
  {
   "cell_type": "code",
   "execution_count": null,
   "metadata": {},
   "outputs": [],
   "source": [
    "data.reshape(B, C, H//Hp, Hp, W//Wp, Wp).swapaxes(3,4).reshape(B * C * H * W // Hp // Wp, Hp, Wp).shape"
   ]
  },
  {
   "cell_type": "code",
   "execution_count": null,
   "metadata": {},
   "outputs": [],
   "source": [
    "data.shape"
   ]
  },
  {
   "cell_type": "code",
   "execution_count": null,
   "metadata": {},
   "outputs": [],
   "source": [
    "fig = plt.figure(figsize = (4, 4))\n",
    "vmin = data[0, 0].mean()\n",
    "vmax = data[0, 0].mean() + 4 * data[0, 0].std()\n",
    "plt.imshow(data[0, 0], interpolation = 'none', vmin = vmin, vmax = vmax)"
   ]
  },
  {
   "cell_type": "code",
   "execution_count": null,
   "metadata": {},
   "outputs": [],
   "source": [
    "ndiv  = H//Hp\n",
    "ncols = ndiv\n",
    "nrows = ndiv\n",
    "fig   = plt.figure(figsize = (4,4))\n",
    "gspec = fig.add_gridspec( nrows, ncols, )\n",
    "ax_list = [ fig.add_subplot(gspec[i, j], aspect = 1) for i in range(nrows) for j in range(ncols)]\n",
    "\n",
    "for row in range(nrows):\n",
    "    for col in range(ncols):\n",
    "        idx = col + ncols * row\n",
    "        ax = ax_list[idx]\n",
    "        data_viz = data_reshaped[0, 0][row][col]\n",
    "        ax.imshow(data_viz, interpolation = 'none', vmin = vmin, vmax = vmax)\n",
    "\n",
    "# Apply style...\n",
    "for ax in ax_list:\n",
    "    ax.set_xticks([])\n",
    "    ax.set_yticks([])\n",
    "\n",
    "    # Hide the frame box\n",
    "    ax.spines['top'   ].set_visible(False)\n",
    "    ax.spines['right' ].set_visible(False)\n",
    "    ax.spines['left'  ].set_visible(False)\n",
    "    ax.spines['bottom'].set_visible(False)"
   ]
  },
  {
   "cell_type": "code",
   "execution_count": null,
   "metadata": {},
   "outputs": [],
   "source": [
    "num_patch, Hp, Wp = context.shape"
   ]
  },
  {
   "cell_type": "code",
   "execution_count": null,
   "metadata": {},
   "outputs": [],
   "source": [
    "tok_size            = Hp * Wp\n",
    "embd_size           = 768    # (google's pretrained ViT)\n",
    "context_length      = num_frame_in_context * num_patch\n",
    "num_blocks          = 4\n",
    "num_heads           = 4\n",
    "uses_causal_mask    = True\n",
    "attention_dropout   = 0.1\n",
    "residual_dropout    = 0.1\n",
    "feedforward_dropout = 0.1\n",
    "model = Transformer(tok_size            = tok_size,\n",
    "                    embd_size           = embd_size,\n",
    "                    context_length      = context_length,\n",
    "                    num_blocks          = num_blocks,\n",
    "                    num_heads           = num_heads,\n",
    "                    uses_causal_mask    = uses_causal_mask,\n",
    "                    attention_dropout   = attention_dropout,\n",
    "                    residual_dropout    = residual_dropout,\n",
    "                    feedforward_dropout = feedforward_dropout,)\n",
    "model.to(device)"
   ]
  },
  {
   "cell_type": "code",
   "execution_count": null,
   "metadata": {},
   "outputs": [],
   "source": [
    "sum(p.numel() for p in model.parameters())/1e6    # M parameters"
   ]
  },
  {
   "cell_type": "code",
   "execution_count": null,
   "metadata": {},
   "outputs": [],
   "source": [
    "context.shape"
   ]
  },
  {
   "cell_type": "code",
   "execution_count": null,
   "metadata": {},
   "outputs": [],
   "source": [
    "606454677504 / 1e9"
   ]
  },
  {
   "cell_type": "code",
   "execution_count": null,
   "metadata": {},
   "outputs": [],
   "source": []
  }
 ],
 "metadata": {
  "kernelspec": {
   "display_name": "peaknet-1.0",
   "language": "python",
   "name": "peaknet-1.0"
  },
  "language_info": {
   "codemirror_mode": {
    "name": "ipython",
    "version": 3
   },
   "file_extension": ".py",
   "mimetype": "text/x-python",
   "name": "python",
   "nbconvert_exporter": "python",
   "pygments_lexer": "ipython3",
   "version": "3.7.12"
  },
  "orig_nbformat": 4
 },
 "nbformat": 4,
 "nbformat_minor": 2
}
